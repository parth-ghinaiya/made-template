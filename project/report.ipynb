{
 "cells": [
  {
   "cell_type": "markdown",
   "source": [
    "\n",
    "# Report: Correlation between rates of Gold Price and Crude Oil Price\n",
    "=====================================================================================================\n",
    "# Author: **[Parth Ghinaiya](https://github.com/parth-ghinaiya)**\n",
    "-----------------------------------------------------------------------------------------------------\n",
    "## Preparation\n",
    "### Install Dependencies"
   ],
   "metadata": {
    "collapsed": false
   },
   "id": "58e2b6230c1168f3"
  },
  {
   "cell_type": "code",
   "outputs": [
    {
     "name": "stdout",
     "output_type": "stream",
     "text": [
      "Requirement already satisfied: pip in /Users/parth/Downloads/Exams/WS 24/MADE/made/lib/python3.11/site-packages (23.3.2)\r\n",
      "Note: you may need to restart the kernel to use updated packages.\n",
      "Requirement already satisfied: matplotlib==3.8.2 in /Users/parth/Downloads/Exams/WS 24/MADE/made/lib/python3.11/site-packages (3.8.2)\r\n",
      "Requirement already satisfied: contourpy>=1.0.1 in /Users/parth/Downloads/Exams/WS 24/MADE/made/lib/python3.11/site-packages (from matplotlib==3.8.2) (1.2.0)\r\n",
      "Requirement already satisfied: cycler>=0.10 in /Users/parth/Downloads/Exams/WS 24/MADE/made/lib/python3.11/site-packages (from matplotlib==3.8.2) (0.12.1)\r\n",
      "Requirement already satisfied: fonttools>=4.22.0 in /Users/parth/Downloads/Exams/WS 24/MADE/made/lib/python3.11/site-packages (from matplotlib==3.8.2) (4.47.0)\r\n",
      "Requirement already satisfied: kiwisolver>=1.3.1 in /Users/parth/Downloads/Exams/WS 24/MADE/made/lib/python3.11/site-packages (from matplotlib==3.8.2) (1.4.5)\r\n",
      "Requirement already satisfied: numpy<2,>=1.21 in /Users/parth/Downloads/Exams/WS 24/MADE/made/lib/python3.11/site-packages (from matplotlib==3.8.2) (1.26.3)\r\n",
      "Requirement already satisfied: packaging>=20.0 in /Users/parth/Downloads/Exams/WS 24/MADE/made/lib/python3.11/site-packages (from matplotlib==3.8.2) (23.2)\r\n",
      "Requirement already satisfied: pillow>=8 in /Users/parth/Downloads/Exams/WS 24/MADE/made/lib/python3.11/site-packages (from matplotlib==3.8.2) (10.2.0)\r\n",
      "Requirement already satisfied: pyparsing>=2.3.1 in /Users/parth/Downloads/Exams/WS 24/MADE/made/lib/python3.11/site-packages (from matplotlib==3.8.2) (3.1.1)\r\n",
      "Requirement already satisfied: python-dateutil>=2.7 in /Users/parth/Downloads/Exams/WS 24/MADE/made/lib/python3.11/site-packages (from matplotlib==3.8.2) (2.8.2)\r\n",
      "Requirement already satisfied: six>=1.5 in /Users/parth/Downloads/Exams/WS 24/MADE/made/lib/python3.11/site-packages (from python-dateutil>=2.7->matplotlib==3.8.2) (1.16.0)\r\n",
      "Note: you may need to restart the kernel to use updated packages.\n",
      "Requirement already satisfied: numpy==1.26.3 in /Users/parth/Downloads/Exams/WS 24/MADE/made/lib/python3.11/site-packages (1.26.3)\r\n",
      "Note: you may need to restart the kernel to use updated packages.\n",
      "Requirement already satisfied: pandas==1.5.3 in /Users/parth/Downloads/Exams/WS 24/MADE/made/lib/python3.11/site-packages (1.5.3)\r\n",
      "Requirement already satisfied: python-dateutil>=2.8.1 in /Users/parth/Downloads/Exams/WS 24/MADE/made/lib/python3.11/site-packages (from pandas==1.5.3) (2.8.2)\r\n",
      "Requirement already satisfied: pytz>=2020.1 in /Users/parth/Downloads/Exams/WS 24/MADE/made/lib/python3.11/site-packages (from pandas==1.5.3) (2023.3.post1)\r\n",
      "Requirement already satisfied: numpy>=1.21.0 in /Users/parth/Downloads/Exams/WS 24/MADE/made/lib/python3.11/site-packages (from pandas==1.5.3) (1.26.3)\r\n",
      "Requirement already satisfied: six>=1.5 in /Users/parth/Downloads/Exams/WS 24/MADE/made/lib/python3.11/site-packages (from python-dateutil>=2.8.1->pandas==1.5.3) (1.16.0)\r\n",
      "Note: you may need to restart the kernel to use updated packages.\n",
      "zsh:1: =1.11.4 not found\r\n",
      "Note: you may need to restart the kernel to use updated packages.\n",
      "Requirement already satisfied: SQLAlchemy==1.4.46 in /Users/parth/Downloads/Exams/WS 24/MADE/made/lib/python3.11/site-packages (1.4.46)\r\n",
      "Note: you may need to restart the kernel to use updated packages.\n",
      "Requirement already satisfied: kaggle==1.5.16 in /Users/parth/Downloads/Exams/WS 24/MADE/made/lib/python3.11/site-packages (1.5.16)\r\n",
      "Requirement already satisfied: six>=1.10 in /Users/parth/Downloads/Exams/WS 24/MADE/made/lib/python3.11/site-packages (from kaggle==1.5.16) (1.16.0)\r\n",
      "Requirement already satisfied: certifi in /Users/parth/Downloads/Exams/WS 24/MADE/made/lib/python3.11/site-packages (from kaggle==1.5.16) (2023.11.17)\r\n",
      "Requirement already satisfied: python-dateutil in /Users/parth/Downloads/Exams/WS 24/MADE/made/lib/python3.11/site-packages (from kaggle==1.5.16) (2.8.2)\r\n",
      "Requirement already satisfied: requests in /Users/parth/Downloads/Exams/WS 24/MADE/made/lib/python3.11/site-packages (from kaggle==1.5.16) (2.31.0)\r\n",
      "Requirement already satisfied: tqdm in /Users/parth/Downloads/Exams/WS 24/MADE/made/lib/python3.11/site-packages (from kaggle==1.5.16) (4.66.1)\r\n",
      "Requirement already satisfied: python-slugify in /Users/parth/Downloads/Exams/WS 24/MADE/made/lib/python3.11/site-packages (from kaggle==1.5.16) (8.0.1)\r\n",
      "Requirement already satisfied: urllib3 in /Users/parth/Downloads/Exams/WS 24/MADE/made/lib/python3.11/site-packages (from kaggle==1.5.16) (2.1.0)\r\n",
      "Requirement already satisfied: bleach in /Users/parth/Downloads/Exams/WS 24/MADE/made/lib/python3.11/site-packages (from kaggle==1.5.16) (6.1.0)\r\n",
      "Requirement already satisfied: webencodings in /Users/parth/Downloads/Exams/WS 24/MADE/made/lib/python3.11/site-packages (from bleach->kaggle==1.5.16) (0.5.1)\r\n",
      "Requirement already satisfied: text-unidecode>=1.3 in /Users/parth/Downloads/Exams/WS 24/MADE/made/lib/python3.11/site-packages (from python-slugify->kaggle==1.5.16) (1.3)\r\n",
      "Requirement already satisfied: charset-normalizer<4,>=2 in /Users/parth/Downloads/Exams/WS 24/MADE/made/lib/python3.11/site-packages (from requests->kaggle==1.5.16) (3.3.2)\r\n",
      "Requirement already satisfied: idna<4,>=2.5 in /Users/parth/Downloads/Exams/WS 24/MADE/made/lib/python3.11/site-packages (from requests->kaggle==1.5.16) (3.4)\r\n",
      "Note: you may need to restart the kernel to use updated packages.\n"
     ]
    }
   ],
   "source": [
    "%pip install --upgrade pip\n",
    "%pip install matplotlib==3.8.2\n",
    "%pip install numpy==1.26.3\n",
    "%pip install pandas==1.5.3\n",
    "%pip install ==1.11.4\n",
    "%pip install SQLAlchemy==1.4.46\n",
    "%pip install kaggle==1.5.16"
   ],
   "metadata": {
    "collapsed": false,
    "ExecuteTime": {
     "end_time": "2024-01-04T14:23:47.669721Z",
     "start_time": "2024-01-04T14:23:41.659587Z"
    }
   },
   "id": "2e4d3637003cdebb",
   "execution_count": 5
  },
  {
   "cell_type": "markdown",
   "source": [
    "### Import Dependencies"
   ],
   "metadata": {
    "collapsed": false
   },
   "id": "8acf679613e6cc8c"
  },
  {
   "cell_type": "code",
   "outputs": [],
   "source": [
    "import os\n",
    "import subprocess\n",
    "import urllib.request\n",
    "import zipfile\n",
    "# import geopandas as gpd\n",
    "import matplotlib.pyplot as plt\n",
    "import numpy as np\n",
    "import pandas as pd\n",
    "# from scipy.stats import pearsonr\n",
    "from sqlalchemy import create_engine"
   ],
   "metadata": {
    "collapsed": false,
    "ExecuteTime": {
     "end_time": "2024-01-04T13:50:22.724978Z",
     "start_time": "2024-01-04T13:50:21.981622Z"
    }
   },
   "id": "7d4e9638b430217",
   "execution_count": 2
  },
  {
   "cell_type": "markdown",
   "source": [
    "### Load Data into Sqlite Database"
   ],
   "metadata": {
    "collapsed": false
   },
   "id": "e226eb89c7823570"
  },
  {
   "cell_type": "code",
   "outputs": [
    {
     "name": "stdout",
     "output_type": "stream",
     "text": [
      "Requirement already satisfied: pip in /Users/parth/Downloads/Exams/WS 24/MADE/made/lib/python3.11/site-packages (23.3.2)\n",
      "Requirement already satisfied: pandas==1.5.3 in /Users/parth/Downloads/Exams/WS 24/MADE/made/lib/python3.11/site-packages (from -r ./requirements.txt (line 1)) (1.5.3)\n",
      "Requirement already satisfied: SQLAlchemy==1.4.46 in /Users/parth/Downloads/Exams/WS 24/MADE/made/lib/python3.11/site-packages (from -r ./requirements.txt (line 2)) (1.4.46)\n",
      "Requirement already satisfied: kaggle==1.5.16 in /Users/parth/Downloads/Exams/WS 24/MADE/made/lib/python3.11/site-packages (from -r ./requirements.txt (line 3)) (1.5.16)\n",
      "Requirement already satisfied: pytest==7.4.3 in /Users/parth/Downloads/Exams/WS 24/MADE/made/lib/python3.11/site-packages (from -r ./requirements.txt (line 4)) (7.4.3)\n",
      "Requirement already satisfied: python-dateutil>=2.8.1 in /Users/parth/Downloads/Exams/WS 24/MADE/made/lib/python3.11/site-packages (from pandas==1.5.3->-r ./requirements.txt (line 1)) (2.8.2)\n",
      "Requirement already satisfied: pytz>=2020.1 in /Users/parth/Downloads/Exams/WS 24/MADE/made/lib/python3.11/site-packages (from pandas==1.5.3->-r ./requirements.txt (line 1)) (2023.3.post1)\n",
      "Requirement already satisfied: numpy>=1.21.0 in /Users/parth/Downloads/Exams/WS 24/MADE/made/lib/python3.11/site-packages (from pandas==1.5.3->-r ./requirements.txt (line 1)) (1.26.3)\n",
      "Requirement already satisfied: six>=1.10 in /Users/parth/Downloads/Exams/WS 24/MADE/made/lib/python3.11/site-packages (from kaggle==1.5.16->-r ./requirements.txt (line 3)) (1.16.0)\n",
      "Requirement already satisfied: certifi in /Users/parth/Downloads/Exams/WS 24/MADE/made/lib/python3.11/site-packages (from kaggle==1.5.16->-r ./requirements.txt (line 3)) (2023.11.17)\n",
      "Requirement already satisfied: requests in /Users/parth/Downloads/Exams/WS 24/MADE/made/lib/python3.11/site-packages (from kaggle==1.5.16->-r ./requirements.txt (line 3)) (2.31.0)\n",
      "Requirement already satisfied: tqdm in /Users/parth/Downloads/Exams/WS 24/MADE/made/lib/python3.11/site-packages (from kaggle==1.5.16->-r ./requirements.txt (line 3)) (4.66.1)\n",
      "Requirement already satisfied: python-slugify in /Users/parth/Downloads/Exams/WS 24/MADE/made/lib/python3.11/site-packages (from kaggle==1.5.16->-r ./requirements.txt (line 3)) (8.0.1)\n",
      "Requirement already satisfied: urllib3 in /Users/parth/Downloads/Exams/WS 24/MADE/made/lib/python3.11/site-packages (from kaggle==1.5.16->-r ./requirements.txt (line 3)) (2.1.0)\n",
      "Requirement already satisfied: bleach in /Users/parth/Downloads/Exams/WS 24/MADE/made/lib/python3.11/site-packages (from kaggle==1.5.16->-r ./requirements.txt (line 3)) (6.1.0)\n",
      "Requirement already satisfied: iniconfig in /Users/parth/Downloads/Exams/WS 24/MADE/made/lib/python3.11/site-packages (from pytest==7.4.3->-r ./requirements.txt (line 4)) (2.0.0)\n",
      "Requirement already satisfied: packaging in /Users/parth/Downloads/Exams/WS 24/MADE/made/lib/python3.11/site-packages (from pytest==7.4.3->-r ./requirements.txt (line 4)) (23.2)\n",
      "Requirement already satisfied: pluggy<2.0,>=0.12 in /Users/parth/Downloads/Exams/WS 24/MADE/made/lib/python3.11/site-packages (from pytest==7.4.3->-r ./requirements.txt (line 4)) (1.3.0)\n",
      "Requirement already satisfied: webencodings in /Users/parth/Downloads/Exams/WS 24/MADE/made/lib/python3.11/site-packages (from bleach->kaggle==1.5.16->-r ./requirements.txt (line 3)) (0.5.1)\n",
      "Requirement already satisfied: text-unidecode>=1.3 in /Users/parth/Downloads/Exams/WS 24/MADE/made/lib/python3.11/site-packages (from python-slugify->kaggle==1.5.16->-r ./requirements.txt (line 3)) (1.3)\n",
      "Requirement already satisfied: charset-normalizer<4,>=2 in /Users/parth/Downloads/Exams/WS 24/MADE/made/lib/python3.11/site-packages (from requests->kaggle==1.5.16->-r ./requirements.txt (line 3)) (3.3.2)\n",
      "Requirement already satisfied: idna<4,>=2.5 in /Users/parth/Downloads/Exams/WS 24/MADE/made/lib/python3.11/site-packages (from requests->kaggle==1.5.16->-r ./requirements.txt (line 3)) (3.4)\n",
      "Warning: Your Kaggle API key is readable by other users on this system! To fix this, you can run 'chmod 600 ./kaggle.json'\n",
      "Warning: Your Kaggle API key is readable by other users on this system! To fix this, you can run 'chmod 600 ./kaggle.json'\n"
     ]
    },
    {
     "data": {
      "text/plain": "CompletedProcess(args=['./pipeline.sh'], returncode=0)"
     },
     "execution_count": 6,
     "metadata": {},
     "output_type": "execute_result"
    }
   ],
   "source": [
    "# Run datapipeline to create database if it doesn't exist\n",
    "subprocess.run([\"./pipeline.sh\"])"
   ],
   "metadata": {
    "collapsed": false,
    "ExecuteTime": {
     "end_time": "2024-01-04T14:47:58.251928Z",
     "start_time": "2024-01-04T14:47:51.294172Z"
    }
   },
   "id": "c95b59d56c0777c7",
   "execution_count": 6
  },
  {
   "cell_type": "markdown",
   "source": [
    "### Retrieve Data from Database"
   ],
   "metadata": {
    "collapsed": false
   },
   "id": "1a959f16488d1453"
  },
  {
   "cell_type": "code",
   "outputs": [
    {
     "name": "stdout",
     "output_type": "stream",
     "text": [
      "          date    price  percentChange  change\n",
      "0   1983-03-30  29.2700            NaN     NaN\n",
      "1   1983-04-04  30.6300          4.646  1.3600\n",
      "2   1983-05-02  30.2500         -1.241 -0.3800\n",
      "3   1983-06-01  31.3800          3.736  1.1300\n",
      "4   1983-07-01  32.0000          1.976  0.6200\n",
      "..         ...      ...            ...     ...\n",
      "486 2023-09-01  88.8000          7.040  5.8400\n",
      "487 2023-10-02  80.5000         -9.347 -8.3000\n",
      "488 2023-11-01  76.0500         -5.528 -4.4500\n",
      "489 2023-12-01  71.6500         -5.786 -4.4000\n",
      "490 2024-01-02  73.1716          2.124  1.5216\n",
      "\n",
      "[491 rows x 4 columns]\n"
     ]
    }
   ],
   "source": [
    "# Load data from database\n",
    "crude_oil_price_db_engine = create_engine('sqlite:///../data/crude_oil_price.sqlite')\n",
    "gold_price_db_engine = create_engine('sqlite:///../data/gold_price.sqlite')\n",
    "\n",
    "# Create dataframe from database\n",
    "crude_oil_price_df = pd.read_sql_table('crude_oil_price', crude_oil_price_db_engine)\n",
    "gold_price_df = pd.read_sql_table('gold_prices', gold_price_db_engine)"
   ],
   "metadata": {
    "collapsed": false,
    "ExecuteTime": {
     "end_time": "2024-01-04T14:50:37.073762Z",
     "start_time": "2024-01-04T14:50:37.051381Z"
    }
   },
   "id": "14572e3f1f72a097",
   "execution_count": 9
  },
  {
   "cell_type": "markdown",
   "source": [
    "### Analyze Data"
   ],
   "metadata": {
    "collapsed": false
   },
   "id": "ea6be3aad5ed4f79"
  },
  {
   "cell_type": "code",
   "outputs": [],
   "source": [],
   "metadata": {
    "collapsed": false
   },
   "id": "c55783722af4123c"
  }
 ],
 "metadata": {
  "kernelspec": {
   "display_name": "Python 3",
   "language": "python",
   "name": "python3"
  },
  "language_info": {
   "codemirror_mode": {
    "name": "ipython",
    "version": 2
   },
   "file_extension": ".py",
   "mimetype": "text/x-python",
   "name": "python",
   "nbconvert_exporter": "python",
   "pygments_lexer": "ipython2",
   "version": "2.7.6"
  }
 },
 "nbformat": 4,
 "nbformat_minor": 5
}
