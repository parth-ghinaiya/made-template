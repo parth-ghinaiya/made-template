{
 "cells": [
  {
   "cell_type": "markdown",
   "source": [
    "\n",
    "# Report: Correlation between rates of Gold Price and Crude Oil Price\n",
    "=====================================================================================================\n",
    "# Author: **[Parth Ghinaiya](https://github.com/parth-ghinaiya)**\n",
    "-----------------------------------------------------------------------------------------------------\n",
    "## Preparation\n",
    "### Install Dependencies"
   ],
   "metadata": {
    "collapsed": false
   },
   "id": "58e2b6230c1168f3"
  },
  {
   "cell_type": "code",
   "outputs": [
    {
     "name": "stdout",
     "output_type": "stream",
     "text": [
      "Requirement already satisfied: pip in /Users/parth/Downloads/Exams/WS 24/MADE/made/lib/python3.11/site-packages (23.3.2)\r\n",
      "Note: you may need to restart the kernel to use updated packages.\n",
      "Requirement already satisfied: matplotlib==3.8.2 in /Users/parth/Downloads/Exams/WS 24/MADE/made/lib/python3.11/site-packages (3.8.2)\r\n",
      "Requirement already satisfied: contourpy>=1.0.1 in /Users/parth/Downloads/Exams/WS 24/MADE/made/lib/python3.11/site-packages (from matplotlib==3.8.2) (1.2.0)\r\n",
      "Requirement already satisfied: cycler>=0.10 in /Users/parth/Downloads/Exams/WS 24/MADE/made/lib/python3.11/site-packages (from matplotlib==3.8.2) (0.12.1)\r\n",
      "Requirement already satisfied: fonttools>=4.22.0 in /Users/parth/Downloads/Exams/WS 24/MADE/made/lib/python3.11/site-packages (from matplotlib==3.8.2) (4.47.0)\r\n",
      "Requirement already satisfied: kiwisolver>=1.3.1 in /Users/parth/Downloads/Exams/WS 24/MADE/made/lib/python3.11/site-packages (from matplotlib==3.8.2) (1.4.5)\r\n",
      "Requirement already satisfied: numpy<2,>=1.21 in /Users/parth/Downloads/Exams/WS 24/MADE/made/lib/python3.11/site-packages (from matplotlib==3.8.2) (1.26.3)\r\n",
      "Requirement already satisfied: packaging>=20.0 in /Users/parth/Downloads/Exams/WS 24/MADE/made/lib/python3.11/site-packages (from matplotlib==3.8.2) (23.2)\r\n",
      "Requirement already satisfied: pillow>=8 in /Users/parth/Downloads/Exams/WS 24/MADE/made/lib/python3.11/site-packages (from matplotlib==3.8.2) (10.2.0)\r\n",
      "Requirement already satisfied: pyparsing>=2.3.1 in /Users/parth/Downloads/Exams/WS 24/MADE/made/lib/python3.11/site-packages (from matplotlib==3.8.2) (3.1.1)\r\n",
      "Requirement already satisfied: python-dateutil>=2.7 in /Users/parth/Downloads/Exams/WS 24/MADE/made/lib/python3.11/site-packages (from matplotlib==3.8.2) (2.8.2)\r\n",
      "Requirement already satisfied: six>=1.5 in /Users/parth/Downloads/Exams/WS 24/MADE/made/lib/python3.11/site-packages (from python-dateutil>=2.7->matplotlib==3.8.2) (1.16.0)\r\n",
      "Note: you may need to restart the kernel to use updated packages.\n",
      "Requirement already satisfied: numpy==1.26.3 in /Users/parth/Downloads/Exams/WS 24/MADE/made/lib/python3.11/site-packages (1.26.3)\r\n",
      "Note: you may need to restart the kernel to use updated packages.\n",
      "Requirement already satisfied: pandas==1.5.3 in /Users/parth/Downloads/Exams/WS 24/MADE/made/lib/python3.11/site-packages (1.5.3)\r\n",
      "Requirement already satisfied: python-dateutil>=2.8.1 in /Users/parth/Downloads/Exams/WS 24/MADE/made/lib/python3.11/site-packages (from pandas==1.5.3) (2.8.2)\r\n",
      "Requirement already satisfied: pytz>=2020.1 in /Users/parth/Downloads/Exams/WS 24/MADE/made/lib/python3.11/site-packages (from pandas==1.5.3) (2023.3.post1)\r\n",
      "Requirement already satisfied: numpy>=1.21.0 in /Users/parth/Downloads/Exams/WS 24/MADE/made/lib/python3.11/site-packages (from pandas==1.5.3) (1.26.3)\r\n",
      "Requirement already satisfied: six>=1.5 in /Users/parth/Downloads/Exams/WS 24/MADE/made/lib/python3.11/site-packages (from python-dateutil>=2.8.1->pandas==1.5.3) (1.16.0)\r\n",
      "Note: you may need to restart the kernel to use updated packages.\n",
      "zsh:1: =1.11.4 not found\r\n",
      "Note: you may need to restart the kernel to use updated packages.\n",
      "Requirement already satisfied: SQLAlchemy==1.4.46 in /Users/parth/Downloads/Exams/WS 24/MADE/made/lib/python3.11/site-packages (1.4.46)\r\n",
      "Note: you may need to restart the kernel to use updated packages.\n",
      "Requirement already satisfied: kaggle==1.5.16 in /Users/parth/Downloads/Exams/WS 24/MADE/made/lib/python3.11/site-packages (1.5.16)\r\n",
      "Requirement already satisfied: six>=1.10 in /Users/parth/Downloads/Exams/WS 24/MADE/made/lib/python3.11/site-packages (from kaggle==1.5.16) (1.16.0)\r\n",
      "Requirement already satisfied: certifi in /Users/parth/Downloads/Exams/WS 24/MADE/made/lib/python3.11/site-packages (from kaggle==1.5.16) (2023.11.17)\r\n",
      "Requirement already satisfied: python-dateutil in /Users/parth/Downloads/Exams/WS 24/MADE/made/lib/python3.11/site-packages (from kaggle==1.5.16) (2.8.2)\r\n",
      "Requirement already satisfied: requests in /Users/parth/Downloads/Exams/WS 24/MADE/made/lib/python3.11/site-packages (from kaggle==1.5.16) (2.31.0)\r\n",
      "Requirement already satisfied: tqdm in /Users/parth/Downloads/Exams/WS 24/MADE/made/lib/python3.11/site-packages (from kaggle==1.5.16) (4.66.1)\r\n",
      "Requirement already satisfied: python-slugify in /Users/parth/Downloads/Exams/WS 24/MADE/made/lib/python3.11/site-packages (from kaggle==1.5.16) (8.0.1)\r\n",
      "Requirement already satisfied: urllib3 in /Users/parth/Downloads/Exams/WS 24/MADE/made/lib/python3.11/site-packages (from kaggle==1.5.16) (2.1.0)\r\n",
      "Requirement already satisfied: bleach in /Users/parth/Downloads/Exams/WS 24/MADE/made/lib/python3.11/site-packages (from kaggle==1.5.16) (6.1.0)\r\n",
      "Requirement already satisfied: webencodings in /Users/parth/Downloads/Exams/WS 24/MADE/made/lib/python3.11/site-packages (from bleach->kaggle==1.5.16) (0.5.1)\r\n",
      "Requirement already satisfied: text-unidecode>=1.3 in /Users/parth/Downloads/Exams/WS 24/MADE/made/lib/python3.11/site-packages (from python-slugify->kaggle==1.5.16) (1.3)\r\n",
      "Requirement already satisfied: charset-normalizer<4,>=2 in /Users/parth/Downloads/Exams/WS 24/MADE/made/lib/python3.11/site-packages (from requests->kaggle==1.5.16) (3.3.2)\r\n",
      "Requirement already satisfied: idna<4,>=2.5 in /Users/parth/Downloads/Exams/WS 24/MADE/made/lib/python3.11/site-packages (from requests->kaggle==1.5.16) (3.4)\r\n",
      "Note: you may need to restart the kernel to use updated packages.\n"
     ]
    }
   ],
   "source": [
    "%pip install --upgrade pip\n",
    "%pip install matplotlib==3.8.2\n",
    "%pip install numpy==1.26.3\n",
    "%pip install pandas==1.5.3\n",
    "%pip install ==1.11.4\n",
    "%pip install SQLAlchemy==1.4.46\n",
    "%pip install kaggle==1.5.16"
   ],
   "metadata": {
    "collapsed": false,
    "ExecuteTime": {
     "end_time": "2024-01-04T16:17:04.399880Z",
     "start_time": "2024-01-04T16:16:58.989943Z"
    }
   },
   "id": "2e4d3637003cdebb",
   "execution_count": 18
  },
  {
   "cell_type": "markdown",
   "source": [
    "### Import Dependencies"
   ],
   "metadata": {
    "collapsed": false
   },
   "id": "8acf679613e6cc8c"
  },
  {
   "cell_type": "code",
   "outputs": [],
   "source": [
    "import os\n",
    "import subprocess\n",
    "import urllib.request\n",
    "import zipfile\n",
    "# import geopandas as gpd\n",
    "import matplotlib.pyplot as plt\n",
    "import numpy as np\n",
    "import pandas as pd\n",
    "# from scipy.stats import pearsonr\n",
    "from sqlalchemy import create_engine"
   ],
   "metadata": {
    "collapsed": false,
    "ExecuteTime": {
     "end_time": "2024-01-04T16:17:04.404590Z",
     "start_time": "2024-01-04T16:17:04.399398Z"
    }
   },
   "id": "7d4e9638b430217",
   "execution_count": 19
  },
  {
   "cell_type": "markdown",
   "source": [
    "### Load Data into Sqlite Database"
   ],
   "metadata": {
    "collapsed": false
   },
   "id": "e226eb89c7823570"
  },
  {
   "cell_type": "code",
   "outputs": [
    {
     "name": "stdout",
     "output_type": "stream",
     "text": [
      "Requirement already satisfied: pip in /Users/parth/Downloads/Exams/WS 24/MADE/made/lib/python3.11/site-packages (23.3.2)\n",
      "Requirement already satisfied: pandas==1.5.3 in /Users/parth/Downloads/Exams/WS 24/MADE/made/lib/python3.11/site-packages (from -r ./requirements.txt (line 1)) (1.5.3)\n",
      "Requirement already satisfied: SQLAlchemy==1.4.46 in /Users/parth/Downloads/Exams/WS 24/MADE/made/lib/python3.11/site-packages (from -r ./requirements.txt (line 2)) (1.4.46)\n",
      "Requirement already satisfied: kaggle==1.5.16 in /Users/parth/Downloads/Exams/WS 24/MADE/made/lib/python3.11/site-packages (from -r ./requirements.txt (line 3)) (1.5.16)\n",
      "Requirement already satisfied: pytest==7.4.3 in /Users/parth/Downloads/Exams/WS 24/MADE/made/lib/python3.11/site-packages (from -r ./requirements.txt (line 4)) (7.4.3)\n",
      "Requirement already satisfied: python-dateutil>=2.8.1 in /Users/parth/Downloads/Exams/WS 24/MADE/made/lib/python3.11/site-packages (from pandas==1.5.3->-r ./requirements.txt (line 1)) (2.8.2)\n",
      "Requirement already satisfied: pytz>=2020.1 in /Users/parth/Downloads/Exams/WS 24/MADE/made/lib/python3.11/site-packages (from pandas==1.5.3->-r ./requirements.txt (line 1)) (2023.3.post1)\n",
      "Requirement already satisfied: numpy>=1.21.0 in /Users/parth/Downloads/Exams/WS 24/MADE/made/lib/python3.11/site-packages (from pandas==1.5.3->-r ./requirements.txt (line 1)) (1.26.3)\n",
      "Requirement already satisfied: six>=1.10 in /Users/parth/Downloads/Exams/WS 24/MADE/made/lib/python3.11/site-packages (from kaggle==1.5.16->-r ./requirements.txt (line 3)) (1.16.0)\n",
      "Requirement already satisfied: certifi in /Users/parth/Downloads/Exams/WS 24/MADE/made/lib/python3.11/site-packages (from kaggle==1.5.16->-r ./requirements.txt (line 3)) (2023.11.17)\n",
      "Requirement already satisfied: requests in /Users/parth/Downloads/Exams/WS 24/MADE/made/lib/python3.11/site-packages (from kaggle==1.5.16->-r ./requirements.txt (line 3)) (2.31.0)\n",
      "Requirement already satisfied: tqdm in /Users/parth/Downloads/Exams/WS 24/MADE/made/lib/python3.11/site-packages (from kaggle==1.5.16->-r ./requirements.txt (line 3)) (4.66.1)\n",
      "Requirement already satisfied: python-slugify in /Users/parth/Downloads/Exams/WS 24/MADE/made/lib/python3.11/site-packages (from kaggle==1.5.16->-r ./requirements.txt (line 3)) (8.0.1)\n",
      "Requirement already satisfied: urllib3 in /Users/parth/Downloads/Exams/WS 24/MADE/made/lib/python3.11/site-packages (from kaggle==1.5.16->-r ./requirements.txt (line 3)) (2.1.0)\n",
      "Requirement already satisfied: bleach in /Users/parth/Downloads/Exams/WS 24/MADE/made/lib/python3.11/site-packages (from kaggle==1.5.16->-r ./requirements.txt (line 3)) (6.1.0)\n",
      "Requirement already satisfied: iniconfig in /Users/parth/Downloads/Exams/WS 24/MADE/made/lib/python3.11/site-packages (from pytest==7.4.3->-r ./requirements.txt (line 4)) (2.0.0)\n",
      "Requirement already satisfied: packaging in /Users/parth/Downloads/Exams/WS 24/MADE/made/lib/python3.11/site-packages (from pytest==7.4.3->-r ./requirements.txt (line 4)) (23.2)\n",
      "Requirement already satisfied: pluggy<2.0,>=0.12 in /Users/parth/Downloads/Exams/WS 24/MADE/made/lib/python3.11/site-packages (from pytest==7.4.3->-r ./requirements.txt (line 4)) (1.3.0)\n",
      "Requirement already satisfied: webencodings in /Users/parth/Downloads/Exams/WS 24/MADE/made/lib/python3.11/site-packages (from bleach->kaggle==1.5.16->-r ./requirements.txt (line 3)) (0.5.1)\n",
      "Requirement already satisfied: text-unidecode>=1.3 in /Users/parth/Downloads/Exams/WS 24/MADE/made/lib/python3.11/site-packages (from python-slugify->kaggle==1.5.16->-r ./requirements.txt (line 3)) (1.3)\n",
      "Requirement already satisfied: charset-normalizer<4,>=2 in /Users/parth/Downloads/Exams/WS 24/MADE/made/lib/python3.11/site-packages (from requests->kaggle==1.5.16->-r ./requirements.txt (line 3)) (3.3.2)\n",
      "Requirement already satisfied: idna<4,>=2.5 in /Users/parth/Downloads/Exams/WS 24/MADE/made/lib/python3.11/site-packages (from requests->kaggle==1.5.16->-r ./requirements.txt (line 3)) (3.4)\n",
      "Warning: Your Kaggle API key is readable by other users on this system! To fix this, you can run 'chmod 600 ./kaggle.json'\n",
      "Warning: Your Kaggle API key is readable by other users on this system! To fix this, you can run 'chmod 600 ./kaggle.json'\n"
     ]
    },
    {
     "data": {
      "text/plain": "CompletedProcess(args=['./pipeline.sh'], returncode=0)"
     },
     "execution_count": 20,
     "metadata": {},
     "output_type": "execute_result"
    }
   ],
   "source": [
    "# Run datapipeline to create database if it doesn't exist\n",
    "subprocess.run([\"./pipeline.sh\"])"
   ],
   "metadata": {
    "collapsed": false,
    "ExecuteTime": {
     "end_time": "2024-01-04T16:17:08.390036Z",
     "start_time": "2024-01-04T16:17:04.401754Z"
    }
   },
   "id": "c95b59d56c0777c7",
   "execution_count": 20
  },
  {
   "cell_type": "markdown",
   "source": [
    "### Retrieve Data from Database"
   ],
   "metadata": {
    "collapsed": false
   },
   "id": "1a959f16488d1453"
  },
  {
   "cell_type": "code",
   "outputs": [],
   "source": [
    "# Load data from database\n",
    "crude_oil_price_db_engine = create_engine('sqlite:///../data/crude_oil_price.sqlite')\n",
    "gold_price_db_engine = create_engine('sqlite:///../data/gold_price.sqlite')\n",
    "\n",
    "# Create dataframe from database\n",
    "crude_oil_price_df = pd.read_sql_table('crude_oil_price', crude_oil_price_db_engine)\n",
    "gold_price_df = pd.read_sql_table('gold_price', gold_price_db_engine)"
   ],
   "metadata": {
    "collapsed": false,
    "ExecuteTime": {
     "end_time": "2024-01-04T16:17:16.037303Z",
     "start_time": "2024-01-04T16:17:16.025211Z"
    }
   },
   "id": "14572e3f1f72a097",
   "execution_count": 22
  },
  {
   "cell_type": "markdown",
   "source": [
    "### Preprocess Data"
   ],
   "metadata": {
    "collapsed": false
   },
   "id": "ea6be3aad5ed4f79"
  },
  {
   "cell_type": "code",
   "outputs": [
    {
     "name": "stdout",
     "output_type": "stream",
     "text": [
      "        date  price  percentChange  change\n",
      "0 1983-03-30  29.27            NaN     NaN\n",
      "1 1983-04-04  30.63          4.646    1.36\n",
      "2 1983-05-02  30.25         -1.241   -0.38\n",
      "3 1983-06-01  31.38          3.736    1.13\n",
      "4 1983-07-01  32.00          1.976    0.62\n"
     ]
    }
   ],
   "source": [
    "print(crude_oil_price_df.head())"
   ],
   "metadata": {
    "collapsed": false,
    "ExecuteTime": {
     "end_time": "2024-01-04T16:18:14.841407Z",
     "start_time": "2024-01-04T16:18:14.838352Z"
    }
   },
   "id": "c55783722af4123c",
   "execution_count": 23
  },
  {
   "cell_type": "code",
   "outputs": [
    {
     "name": "stdout",
     "output_type": "stream",
     "text": [
      "        Date  United States(USD)  Europe(EUR)  Japan(JPY)  \\\n",
      "0 1979-01-31               233.7        144.8     45160.3   \n",
      "1 1979-02-28               251.3        154.6     50209.1   \n",
      "2 1979-03-30               240.1        148.0     50274.3   \n",
      "3 1979-04-30               245.3        152.8     54144.6   \n",
      "4 1979-05-31               274.6        172.0     61057.1   \n",
      "\n",
      "   United Kingdom(GBP)  Canada(CAD)  Switzerland(CHF)  India(INR)  China(CNY)  \\\n",
      "0                117.4        267.1             379.3      1840.8         NaN   \n",
      "1                124.2        295.5             413.6      2011.7         NaN   \n",
      "2                116.2        278.2             406.2      1940.2         NaN   \n",
      "3                118.8        278.5             420.0      2013.1         NaN   \n",
      "4                132.7        321.6             478.0      2253.4         NaN   \n",
      "\n",
      "   Turkey(TRY)  Saudi Arabia(SAR)  Indonesia(IDR)  United Arab Emirates(AED)  \\\n",
      "0          NaN              745.2        139739.3                      856.1   \n",
      "1          NaN              827.8        154683.1                      946.6   \n",
      "2          NaN              796.7        148844.2                      910.4   \n",
      "3          NaN              819.4        152453.6                      930.2   \n",
      "4          NaN              933.3        171656.1                     1048.4   \n",
      "\n",
      "   Thailand(THB)  Vietnam(VND)  Egypt(EGP)  South Korean(KRW)  Australia(AUD)  \\\n",
      "0         4511.3           NaN         NaN           108235.8           197.2   \n",
      "1         4985.7           NaN         NaN           119929.3           219.6   \n",
      "2         4812.9           NaN         NaN           116123.6           214.6   \n",
      "3         4891.0           NaN         NaN           117423.3           221.1   \n",
      "4         5560.8           NaN         NaN           133889.6           250.7   \n",
      "\n",
      "   South Africa(ZAR)  \n",
      "0              194.5  \n",
      "1              209.4  \n",
      "2              202.4  \n",
      "3              206.9  \n",
      "4              233.7  \n"
     ]
    }
   ],
   "source": [
    "print(gold_price_df.head())"
   ],
   "metadata": {
    "collapsed": false,
    "ExecuteTime": {
     "end_time": "2024-01-04T16:18:17.495548Z",
     "start_time": "2024-01-04T16:18:17.491638Z"
    }
   },
   "id": "cd0267235f9e5b44",
   "execution_count": 24
  },
  {
   "cell_type": "code",
   "outputs": [],
   "source": [],
   "metadata": {
    "collapsed": false
   },
   "id": "a39962d98ce6762e"
  }
 ],
 "metadata": {
  "kernelspec": {
   "display_name": "Python 3",
   "language": "python",
   "name": "python3"
  },
  "language_info": {
   "codemirror_mode": {
    "name": "ipython",
    "version": 2
   },
   "file_extension": ".py",
   "mimetype": "text/x-python",
   "name": "python",
   "nbconvert_exporter": "python",
   "pygments_lexer": "ipython2",
   "version": "2.7.6"
  }
 },
 "nbformat": 4,
 "nbformat_minor": 5
}
