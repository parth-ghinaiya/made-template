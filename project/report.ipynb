{
 "cells": [
  {
   "cell_type": "markdown",
   "id": "58e2b6230c1168f3",
   "metadata": {
    "collapsed": false
   },
   "source": [
    "\n",
    "# Report: Correlation between rates of Gold Price and Crude Oil Price\n",
    "=====================================================================================================\n",
    "# Author: **[Parth Ghinaiya](https://github.com/parth-ghinaiya)**\n",
    "-----------------------------------------------------------------------------------------------------\n",
    "## Preparation\n",
    "### Install Dependencies"
   ]
  },
  {
   "cell_type": "code",
   "execution_count": 11,
   "id": "2e4d3637003cdebb",
   "metadata": {
    "ExecuteTime": {
     "end_time": "2024-01-04T16:17:04.399880Z",
     "start_time": "2024-01-04T16:16:58.989943Z"
    },
    "collapsed": false
   },
   "outputs": [
    {
     "name": "stdout",
     "output_type": "stream",
     "text": [
      "Defaulting to user installation because normal site-packages is not writeable\n",
      "Requirement already satisfied: pip in /Users/parth/Library/Python/3.9/lib/python/site-packages (23.3.2)\n",
      "Note: you may need to restart the kernel to use updated packages.\n",
      "Defaulting to user installation because normal site-packages is not writeable\n",
      "Requirement already satisfied: matplotlib==3.8.2 in /Users/parth/Library/Python/3.9/lib/python/site-packages (3.8.2)\n",
      "Requirement already satisfied: contourpy>=1.0.1 in /Library/Python/3.9/site-packages (from matplotlib==3.8.2) (1.0.7)\n",
      "Requirement already satisfied: cycler>=0.10 in /Library/Python/3.9/site-packages (from matplotlib==3.8.2) (0.11.0)\n",
      "Requirement already satisfied: fonttools>=4.22.0 in /Library/Python/3.9/site-packages (from matplotlib==3.8.2) (4.39.3)\n",
      "Requirement already satisfied: kiwisolver>=1.3.1 in /Library/Python/3.9/site-packages (from matplotlib==3.8.2) (1.4.4)\n",
      "Requirement already satisfied: numpy<2,>=1.21 in /Users/parth/Library/Python/3.9/lib/python/site-packages (from matplotlib==3.8.2) (1.26.3)\n",
      "Requirement already satisfied: packaging>=20.0 in /Users/parth/Library/Python/3.9/lib/python/site-packages (from matplotlib==3.8.2) (23.0)\n",
      "Requirement already satisfied: pillow>=8 in /Library/Python/3.9/site-packages (from matplotlib==3.8.2) (9.5.0)\n",
      "Requirement already satisfied: pyparsing>=2.3.1 in /Library/Python/3.9/site-packages (from matplotlib==3.8.2) (3.0.9)\n",
      "Requirement already satisfied: python-dateutil>=2.7 in /Users/parth/Library/Python/3.9/lib/python/site-packages (from matplotlib==3.8.2) (2.8.2)\n",
      "Requirement already satisfied: importlib-resources>=3.2.0 in /Library/Python/3.9/site-packages (from matplotlib==3.8.2) (5.12.0)\n",
      "Requirement already satisfied: zipp>=3.1.0 in /Users/parth/Library/Python/3.9/lib/python/site-packages (from importlib-resources>=3.2.0->matplotlib==3.8.2) (3.15.0)\n",
      "Requirement already satisfied: six>=1.5 in /Library/Developer/CommandLineTools/Library/Frameworks/Python3.framework/Versions/3.9/lib/python3.9/site-packages (from python-dateutil>=2.7->matplotlib==3.8.2) (1.15.0)\n",
      "Note: you may need to restart the kernel to use updated packages.\n",
      "Defaulting to user installation because normal site-packages is not writeable\n",
      "Requirement already satisfied: numpy==1.26.3 in /Users/parth/Library/Python/3.9/lib/python/site-packages (1.26.3)\n",
      "Note: you may need to restart the kernel to use updated packages.\n",
      "Defaulting to user installation because normal site-packages is not writeable\n",
      "Requirement already satisfied: pandas==1.5.3 in /Users/parth/Library/Python/3.9/lib/python/site-packages (1.5.3)\n",
      "Requirement already satisfied: python-dateutil>=2.8.1 in /Users/parth/Library/Python/3.9/lib/python/site-packages (from pandas==1.5.3) (2.8.2)\n",
      "Requirement already satisfied: pytz>=2020.1 in /Users/parth/Library/Python/3.9/lib/python/site-packages (from pandas==1.5.3) (2023.3)\n",
      "Requirement already satisfied: numpy>=1.20.3 in /Users/parth/Library/Python/3.9/lib/python/site-packages (from pandas==1.5.3) (1.26.3)\n",
      "Requirement already satisfied: six>=1.5 in /Library/Developer/CommandLineTools/Library/Frameworks/Python3.framework/Versions/3.9/lib/python3.9/site-packages (from python-dateutil>=2.8.1->pandas==1.5.3) (1.15.0)\n",
      "Note: you may need to restart the kernel to use updated packages.\n",
      "Defaulting to user installation because normal site-packages is not writeable\n",
      "Requirement already satisfied: SQLAlchemy==1.4.46 in /Users/parth/Library/Python/3.9/lib/python/site-packages (1.4.46)\n",
      "Note: you may need to restart the kernel to use updated packages.\n",
      "Defaulting to user installation because normal site-packages is not writeable\n",
      "Requirement already satisfied: kaggle==1.5.16 in /Users/parth/Library/Python/3.9/lib/python/site-packages (1.5.16)\n",
      "Requirement already satisfied: six>=1.10 in /Library/Developer/CommandLineTools/Library/Frameworks/Python3.framework/Versions/3.9/lib/python3.9/site-packages (from kaggle==1.5.16) (1.15.0)\n",
      "Requirement already satisfied: certifi in /Users/parth/Library/Python/3.9/lib/python/site-packages (from kaggle==1.5.16) (2022.12.7)\n",
      "Requirement already satisfied: python-dateutil in /Users/parth/Library/Python/3.9/lib/python/site-packages (from kaggle==1.5.16) (2.8.2)\n",
      "Requirement already satisfied: requests in /Library/Python/3.9/site-packages (from kaggle==1.5.16) (2.31.0)\n",
      "Requirement already satisfied: tqdm in /Users/parth/Library/Python/3.9/lib/python/site-packages (from kaggle==1.5.16) (4.65.0)\n",
      "Requirement already satisfied: python-slugify in /Users/parth/Library/Python/3.9/lib/python/site-packages (from kaggle==1.5.16) (8.0.1)\n",
      "Requirement already satisfied: urllib3 in /Library/Python/3.9/site-packages (from kaggle==1.5.16) (1.26.6)\n",
      "Requirement already satisfied: bleach in /Users/parth/Library/Python/3.9/lib/python/site-packages (from kaggle==1.5.16) (6.0.0)\n",
      "Requirement already satisfied: webencodings in /Users/parth/Library/Python/3.9/lib/python/site-packages (from bleach->kaggle==1.5.16) (0.5.1)\n",
      "Requirement already satisfied: text-unidecode>=1.3 in /Users/parth/Library/Python/3.9/lib/python/site-packages (from python-slugify->kaggle==1.5.16) (1.3)\n",
      "Requirement already satisfied: charset-normalizer<4,>=2 in /Library/Python/3.9/site-packages (from requests->kaggle==1.5.16) (2.1.1)\n",
      "Requirement already satisfied: idna<4,>=2.5 in /Users/parth/Library/Python/3.9/lib/python/site-packages (from requests->kaggle==1.5.16) (3.4)\n",
      "Note: you may need to restart the kernel to use updated packages.\n"
     ]
    }
   ],
   "source": [
    "%pip install --upgrade pip\n",
    "%pip install matplotlib==3.8.2\n",
    "%pip install numpy==1.26.3\n",
    "%pip install pandas==1.5.3\n",
    "%pip install SQLAlchemy==1.4.46\n",
    "%pip install kaggle==1.5.16"
   ]
  },
  {
   "cell_type": "markdown",
   "id": "8acf679613e6cc8c",
   "metadata": {
    "collapsed": false
   },
   "source": [
    "### Import Dependencies"
   ]
  },
  {
   "cell_type": "code",
   "execution_count": 12,
   "id": "7d4e9638b430217",
   "metadata": {
    "ExecuteTime": {
     "end_time": "2024-01-04T16:17:04.404590Z",
     "start_time": "2024-01-04T16:17:04.399398Z"
    },
    "collapsed": false
   },
   "outputs": [],
   "source": [
    "import os\n",
    "import subprocess\n",
    "import urllib.request\n",
    "import zipfile\n",
    "# import geopandas as gpd\n",
    "import matplotlib.pyplot as plt\n",
    "import numpy as np\n",
    "import pandas as pd\n",
    "# from scipy.stats import pearsonr\n",
    "from sqlalchemy import create_engine"
   ]
  },
  {
   "cell_type": "markdown",
   "id": "e226eb89c7823570",
   "metadata": {
    "collapsed": false
   },
   "source": [
    "### Load Data into Sqlite Database"
   ]
  },
  {
   "cell_type": "code",
   "execution_count": 13,
   "id": "c95b59d56c0777c7",
   "metadata": {
    "ExecuteTime": {
     "end_time": "2024-01-04T16:17:08.390036Z",
     "start_time": "2024-01-04T16:17:04.401754Z"
    },
    "collapsed": false
   },
   "outputs": [
    {
     "name": "stdout",
     "output_type": "stream",
     "text": [
      "Defaulting to user installation because normal site-packages is not writeable\n",
      "Requirement already satisfied: pip in /Users/parth/Library/Python/3.9/lib/python/site-packages (23.3.2)\n",
      "Defaulting to user installation because normal site-packages is not writeable\n",
      "Requirement already satisfied: pandas==1.5.3 in /Users/parth/Library/Python/3.9/lib/python/site-packages (from -r ./requirements.txt (line 1)) (1.5.3)\n",
      "Requirement already satisfied: SQLAlchemy==1.4.46 in /Users/parth/Library/Python/3.9/lib/python/site-packages (from -r ./requirements.txt (line 2)) (1.4.46)\n",
      "Requirement already satisfied: kaggle==1.5.16 in /Users/parth/Library/Python/3.9/lib/python/site-packages (from -r ./requirements.txt (line 3)) (1.5.16)\n",
      "Requirement already satisfied: pytest==7.4.3 in /Users/parth/Library/Python/3.9/lib/python/site-packages (from -r ./requirements.txt (line 4)) (7.4.3)\n",
      "Requirement already satisfied: python-dateutil>=2.8.1 in /Users/parth/Library/Python/3.9/lib/python/site-packages (from pandas==1.5.3->-r ./requirements.txt (line 1)) (2.8.2)\n",
      "Requirement already satisfied: pytz>=2020.1 in /Users/parth/Library/Python/3.9/lib/python/site-packages (from pandas==1.5.3->-r ./requirements.txt (line 1)) (2023.3)\n",
      "Requirement already satisfied: numpy>=1.20.3 in /Users/parth/Library/Python/3.9/lib/python/site-packages (from pandas==1.5.3->-r ./requirements.txt (line 1)) (1.26.3)\n",
      "Requirement already satisfied: six>=1.10 in /Library/Developer/CommandLineTools/Library/Frameworks/Python3.framework/Versions/3.9/lib/python3.9/site-packages (from kaggle==1.5.16->-r ./requirements.txt (line 3)) (1.15.0)\n",
      "Requirement already satisfied: certifi in /Users/parth/Library/Python/3.9/lib/python/site-packages (from kaggle==1.5.16->-r ./requirements.txt (line 3)) (2022.12.7)\n",
      "Requirement already satisfied: requests in /Library/Python/3.9/site-packages (from kaggle==1.5.16->-r ./requirements.txt (line 3)) (2.31.0)\n",
      "Requirement already satisfied: tqdm in /Users/parth/Library/Python/3.9/lib/python/site-packages (from kaggle==1.5.16->-r ./requirements.txt (line 3)) (4.65.0)\n",
      "Requirement already satisfied: python-slugify in /Users/parth/Library/Python/3.9/lib/python/site-packages (from kaggle==1.5.16->-r ./requirements.txt (line 3)) (8.0.1)\n",
      "Requirement already satisfied: urllib3 in /Library/Python/3.9/site-packages (from kaggle==1.5.16->-r ./requirements.txt (line 3)) (1.26.6)\n",
      "Requirement already satisfied: bleach in /Users/parth/Library/Python/3.9/lib/python/site-packages (from kaggle==1.5.16->-r ./requirements.txt (line 3)) (6.0.0)\n",
      "Requirement already satisfied: iniconfig in /Users/parth/Library/Python/3.9/lib/python/site-packages (from pytest==7.4.3->-r ./requirements.txt (line 4)) (2.0.0)\n",
      "Requirement already satisfied: packaging in /Users/parth/Library/Python/3.9/lib/python/site-packages (from pytest==7.4.3->-r ./requirements.txt (line 4)) (23.0)\n",
      "Requirement already satisfied: pluggy<2.0,>=0.12 in /Users/parth/Library/Python/3.9/lib/python/site-packages (from pytest==7.4.3->-r ./requirements.txt (line 4)) (1.3.0)\n",
      "Requirement already satisfied: exceptiongroup>=1.0.0rc8 in /Users/parth/Library/Python/3.9/lib/python/site-packages (from pytest==7.4.3->-r ./requirements.txt (line 4)) (1.2.0)\n",
      "Requirement already satisfied: tomli>=1.0.0 in /Users/parth/Library/Python/3.9/lib/python/site-packages (from pytest==7.4.3->-r ./requirements.txt (line 4)) (2.0.1)\n",
      "Requirement already satisfied: webencodings in /Users/parth/Library/Python/3.9/lib/python/site-packages (from bleach->kaggle==1.5.16->-r ./requirements.txt (line 3)) (0.5.1)\n",
      "Requirement already satisfied: text-unidecode>=1.3 in /Users/parth/Library/Python/3.9/lib/python/site-packages (from python-slugify->kaggle==1.5.16->-r ./requirements.txt (line 3)) (1.3)\n",
      "Requirement already satisfied: charset-normalizer<4,>=2 in /Library/Python/3.9/site-packages (from requests->kaggle==1.5.16->-r ./requirements.txt (line 3)) (2.1.1)\n",
      "Requirement already satisfied: idna<4,>=2.5 in /Users/parth/Library/Python/3.9/lib/python/site-packages (from requests->kaggle==1.5.16->-r ./requirements.txt (line 3)) (3.4)\n",
      "Warning: Your Kaggle API key is readable by other users on this system! To fix this, you can run 'chmod 600 ./kaggle.json'\n",
      "Warning: Your Kaggle API key is readable by other users on this system! To fix this, you can run 'chmod 600 ./kaggle.json'\n"
     ]
    },
    {
     "data": {
      "text/plain": [
       "CompletedProcess(args=['./pipeline.sh'], returncode=0)"
      ]
     },
     "execution_count": 13,
     "metadata": {},
     "output_type": "execute_result"
    }
   ],
   "source": [
    "# Run datapipeline to create database if it doesn't exist\n",
    "subprocess.run([\"./pipeline.sh\"])"
   ]
  },
  {
   "cell_type": "markdown",
   "id": "1a959f16488d1453",
   "metadata": {
    "collapsed": false
   },
   "source": [
    "### Retrieve Data from Database"
   ]
  },
  {
   "cell_type": "code",
   "execution_count": 14,
   "id": "14572e3f1f72a097",
   "metadata": {
    "ExecuteTime": {
     "end_time": "2024-01-04T16:17:16.037303Z",
     "start_time": "2024-01-04T16:17:16.025211Z"
    },
    "collapsed": false
   },
   "outputs": [],
   "source": [
    "# Load data from database\n",
    "crude_oil_price_db_engine = create_engine('sqlite:///../data/crude_oil_price.sqlite')\n",
    "gold_price_db_engine = create_engine('sqlite:///../data/gold_price.sqlite')\n",
    "\n",
    "# Create dataframe from database\n",
    "crude_oil_price_df = pd.read_sql_table('crude_oil_price', crude_oil_price_db_engine)\n",
    "gold_price_df = pd.read_sql_table('gold_price', gold_price_db_engine)"
   ]
  },
  {
   "cell_type": "markdown",
   "id": "ea6be3aad5ed4f79",
   "metadata": {
    "collapsed": false
   },
   "source": [
    "### Preprocess Data"
   ]
  },
  {
   "cell_type": "code",
   "execution_count": 15,
   "id": "c55783722af4123c",
   "metadata": {
    "ExecuteTime": {
     "end_time": "2024-01-04T16:18:14.841407Z",
     "start_time": "2024-01-04T16:18:14.838352Z"
    },
    "collapsed": false
   },
   "outputs": [
    {
     "name": "stdout",
     "output_type": "stream",
     "text": [
      "        date  price  percentChange  change\n",
      "0 1983-03-30  29.27            NaN     NaN\n",
      "1 1983-04-04  30.63          4.646    1.36\n",
      "2 1983-05-02  30.25         -1.241   -0.38\n",
      "3 1983-06-01  31.38          3.736    1.13\n",
      "4 1983-07-01  32.00          1.976    0.62\n"
     ]
    }
   ],
   "source": [
    "print(crude_oil_price_df.head())"
   ]
  },
  {
   "cell_type": "code",
   "execution_count": 16,
   "id": "cd0267235f9e5b44",
   "metadata": {
    "ExecuteTime": {
     "end_time": "2024-01-04T16:18:17.495548Z",
     "start_time": "2024-01-04T16:18:17.491638Z"
    },
    "collapsed": false
   },
   "outputs": [
    {
     "name": "stdout",
     "output_type": "stream",
     "text": [
      "        Date  United States(USD)  Europe(EUR)  Japan(JPY)  \\\n",
      "0 1979-01-31               233.7        144.8     45160.3   \n",
      "1 1979-02-28               251.3        154.6     50209.1   \n",
      "2 1979-03-30               240.1        148.0     50274.3   \n",
      "3 1979-04-30               245.3        152.8     54144.6   \n",
      "4 1979-05-31               274.6        172.0     61057.1   \n",
      "\n",
      "   United Kingdom(GBP)  Canada(CAD)  Switzerland(CHF)  India(INR)  China(CNY)  \\\n",
      "0                117.4        267.1             379.3      1840.8         NaN   \n",
      "1                124.2        295.5             413.6      2011.7         NaN   \n",
      "2                116.2        278.2             406.2      1940.2         NaN   \n",
      "3                118.8        278.5             420.0      2013.1         NaN   \n",
      "4                132.7        321.6             478.0      2253.4         NaN   \n",
      "\n",
      "   Turkey(TRY)  Saudi Arabia(SAR)  Indonesia(IDR)  United Arab Emirates(AED)  \\\n",
      "0          NaN              745.2        139739.3                      856.1   \n",
      "1          NaN              827.8        154683.1                      946.6   \n",
      "2          NaN              796.7        148844.2                      910.4   \n",
      "3          NaN              819.4        152453.6                      930.2   \n",
      "4          NaN              933.3        171656.1                     1048.4   \n",
      "\n",
      "   Thailand(THB)  Vietnam(VND)  Egypt(EGP)  South Korean(KRW)  Australia(AUD)  \\\n",
      "0         4511.3           NaN         NaN           108235.8           197.2   \n",
      "1         4985.7           NaN         NaN           119929.3           219.6   \n",
      "2         4812.9           NaN         NaN           116123.6           214.6   \n",
      "3         4891.0           NaN         NaN           117423.3           221.1   \n",
      "4         5560.8           NaN         NaN           133889.6           250.7   \n",
      "\n",
      "   South Africa(ZAR)  \n",
      "0              194.5  \n",
      "1              209.4  \n",
      "2              202.4  \n",
      "3              206.9  \n",
      "4              233.7  \n"
     ]
    }
   ],
   "source": [
    "print(gold_price_df.head())"
   ]
  },
  {
   "cell_type": "code",
   "execution_count": null,
   "id": "a39962d98ce6762e",
   "metadata": {
    "collapsed": false
   },
   "outputs": [],
   "source": []
  }
 ],
 "metadata": {
  "kernelspec": {
   "display_name": "Python 3",
   "language": "python",
   "name": "python3"
  },
  "language_info": {
   "codemirror_mode": {
    "name": "ipython",
    "version": 2
   },
   "file_extension": ".py",
   "mimetype": "text/x-python",
   "name": "python",
   "nbconvert_exporter": "python",
   "pygments_lexer": "ipython2",
   "version": "2.7.6"
  }
 },
 "nbformat": 4,
 "nbformat_minor": 5
}
